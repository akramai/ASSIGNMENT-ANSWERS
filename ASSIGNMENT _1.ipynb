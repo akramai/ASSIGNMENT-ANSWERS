{
 "cells": [
  {
   "cell_type": "code",
   "execution_count": null,
   "id": "d312686a",
   "metadata": {},
   "outputs": [],
   "source": [
    "ANS1.   Values : - 'hello'; -87.8; 6\n",
    "        Expression:- *, - ,/, +"
   ]
  },
  {
   "cell_type": "code",
   "execution_count": null,
   "id": "93bd0447",
   "metadata": {},
   "outputs": [],
   "source": [
    "ANS2.\n",
    "Any combination of character  written inside quote is called string\n",
    "Variables are usd for storing data values.\n"
   ]
  },
  {
   "cell_type": "code",
   "execution_count": null,
   "id": "b4b3eac3",
   "metadata": {},
   "outputs": [],
   "source": [
    "Ans3.\n",
    "1. Integer:- whole numbers are called integers\n",
    "2. float:- numbers containing decimal\n",
    "3. Boolean:- True or False"
   ]
  },
  {
   "cell_type": "code",
   "execution_count": null,
   "id": "76ec34e0",
   "metadata": {},
   "outputs": [],
   "source": [
    "ANS4.\n",
    "An expression is a combination of operators, all expression reduce to single variable"
   ]
  },
  {
   "cell_type": "code",
   "execution_count": null,
   "id": "4a426d37",
   "metadata": {},
   "outputs": [],
   "source": [
    "Ans5. \n",
    "An expression is a combination of operators that is interpreted to produce some other value. \n",
    "And Instructions written in the source code for execution are called statements.\n"
   ]
  },
  {
   "cell_type": "code",
   "execution_count": 19,
   "id": "fe2e650b",
   "metadata": {},
   "outputs": [],
   "source": [
    "#ANS6\n",
    "bacon = 22"
   ]
  },
  {
   "cell_type": "code",
   "execution_count": 20,
   "id": "c9e02e38",
   "metadata": {},
   "outputs": [
    {
     "data": {
      "text/plain": [
       "23"
      ]
     },
     "execution_count": 20,
     "metadata": {},
     "output_type": "execute_result"
    }
   ],
   "source": [
    "bacon + 1"
   ]
  },
  {
   "cell_type": "code",
   "execution_count": 24,
   "id": "64731144",
   "metadata": {},
   "outputs": [
    {
     "data": {
      "text/plain": [
       "'spamspamspam'"
      ]
     },
     "execution_count": 24,
     "metadata": {},
     "output_type": "execute_result"
    }
   ],
   "source": [
    "#ANS7\n",
    "'spamspamspam'"
   ]
  },
  {
   "cell_type": "code",
   "execution_count": null,
   "id": "81e3dfb9",
   "metadata": {},
   "outputs": [],
   "source": [
    "Ans8.\n",
    "eggs a valid variable because variable name should start with alphabets. Hence,100 is invalid variable because variable name should not start with number"
   ]
  },
  {
   "cell_type": "code",
   "execution_count": null,
   "id": "358da14e",
   "metadata": {},
   "outputs": [],
   "source": [
    "Ans9. \n",
    "Int(), float(),  str()"
   ]
  },
  {
   "cell_type": "code",
   "execution_count": null,
   "id": "a37c854f",
   "metadata": {},
   "outputs": [],
   "source": [
    "Ans10.\n",
    "TypeError: can only concatenate str (not \"int\") to str , therefore, 99 is integer  so we have writeen '99' in this way to make it string."
   ]
  }
 ],
 "metadata": {
  "kernelspec": {
   "display_name": "Python 3 (ipykernel)",
   "language": "python",
   "name": "python3"
  },
  "language_info": {
   "codemirror_mode": {
    "name": "ipython",
    "version": 3
   },
   "file_extension": ".py",
   "mimetype": "text/x-python",
   "name": "python",
   "nbconvert_exporter": "python",
   "pygments_lexer": "ipython3",
   "version": "3.9.13"
  }
 },
 "nbformat": 4,
 "nbformat_minor": 5
}
