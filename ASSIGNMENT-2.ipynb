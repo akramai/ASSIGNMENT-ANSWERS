{
 "cells": [
  {
   "cell_type": "code",
   "execution_count": 30,
   "id": "c347b931",
   "metadata": {},
   "outputs": [
    {
     "name": "stdout",
     "output_type": "stream",
     "text": [
      "True\n",
      "False\n"
     ]
    }
   ],
   "source": [
    "#ANS1\n",
    "#The two values of Boolean data type is True or False.\n",
    "a=bool(1<2)\n",
    "b=bool(1>2)\n",
    "print(a)\n",
    "print(b)\n",
    "    "
   ]
  },
  {
   "cell_type": "code",
   "execution_count": null,
   "id": "922f2092",
   "metadata": {},
   "outputs": [],
   "source": [
    "#Ans2.\n",
    "and, or, and not"
   ]
  },
  {
   "cell_type": "code",
   "execution_count": null,
   "id": "57a3e6a2",
   "metadata": {},
   "outputs": [],
   "source": [
    "#Ans3.\n",
    "\n",
    "AND truth table\n",
    "True and True – True\n",
    "True and False— False\n",
    "False and true – True\n",
    "False and False – False\n",
    "\n",
    "OR \n",
    "True or True – True \n",
    "True or False— True\n",
    "False or True – True\n",
    "False or False – False   \n",
    "\n",
    "EQUAL TO  ==\n",
    "True == True – True \n",
    "True == False— False\n",
    "False == true – False\n",
    "False == False – True   \n"
   ]
  },
  {
   "cell_type": "code",
   "execution_count": null,
   "id": "ae2b24db",
   "metadata": {},
   "outputs": [],
   "source": [
    "#Ans4.\n",
    "\n",
    "(5 > 4) and (3 == 5) False\n",
    "not (5 > 4) False\n",
    "(5 > 4) or (3 == 5) True \n",
    "not ((5 > 4) or (3 == 5)) False\n",
    "(True and True) and (True == False)   False\n",
    "(not False) or (not True)   True\n"
   ]
  },
  {
   "cell_type": "code",
   "execution_count": null,
   "id": "225f344f",
   "metadata": {},
   "outputs": [],
   "source": [
    "#Ans5.     \n",
    "> greater than\n",
    "< less than\n",
    "== equal to\n",
    ">= greater than or equal to \n",
    "<= less than or equal to\n",
    "!= notequal to"
   ]
  },
  {
   "cell_type": "code",
   "execution_count": null,
   "id": "5f027d99",
   "metadata": {},
   "outputs": [],
   "source": [
    "#Ans6. \n",
    "\n",
    "(= =) this equality operator returns True if the values on the left and right side of the operator match, and False if they don’t match. \n",
    "And assignment  =  operator is used to assign value of opeator"
   ]
  },
  {
   "cell_type": "code",
   "execution_count": null,
   "id": "bfe56752",
   "metadata": {},
   "outputs": [],
   "source": [
    "#Ans7. \n",
    "\n",
    "If spam ==10:  ,if spam >5: , else:"
   ]
  },
  {
   "cell_type": "code",
   "execution_count": 23,
   "id": "69ccda92",
   "metadata": {},
   "outputs": [
    {
     "name": "stdout",
     "output_type": "stream",
     "text": [
      "2\n",
      "Greetings!\n"
     ]
    }
   ],
   "source": [
    "spam = input()\n",
    "if spam == 1:\n",
    "    print('Hello')\n",
    "elif spam == 2:\n",
    "    print('Howdy')\n",
    "else:\n",
    "    print('Greetings!')"
   ]
  },
  {
   "cell_type": "code",
   "execution_count": null,
   "id": "3678bbb9",
   "metadata": {},
   "outputs": [],
   "source": [
    "#Ans9.\n",
    "\n",
    "ctrl+c"
   ]
  },
  {
   "cell_type": "code",
   "execution_count": null,
   "id": "666809e4",
   "metadata": {},
   "outputs": [],
   "source": [
    "#Ans10. \n",
    "\n",
    "Break loop – beaks the statements and don’t run any remaining code\n",
    "Continue- continue don’t break a complete loop without running the remaining code\n"
   ]
  },
  {
   "cell_type": "code",
   "execution_count": null,
   "id": "9522e3d0",
   "metadata": {},
   "outputs": [],
   "source": [
    "#Ans11. \n",
    "\n",
    "No difference all are giving value from range(0-9)"
   ]
  },
  {
   "cell_type": "code",
   "execution_count": 25,
   "id": "7a6a5eba",
   "metadata": {},
   "outputs": [
    {
     "name": "stdout",
     "output_type": "stream",
     "text": [
      "1\n",
      "2\n",
      "3\n",
      "4\n",
      "5\n",
      "6\n",
      "7\n",
      "8\n",
      "9\n",
      "10\n"
     ]
    }
   ],
   "source": [
    "#Ans12.prints the numbers 1 to 10 using a for loop\n",
    "\n",
    "for i in range(1, 11):\n",
    "    print(i)"
   ]
  },
  {
   "cell_type": "code",
   "execution_count": 26,
   "id": "c9fddf91",
   "metadata": {},
   "outputs": [
    {
     "name": "stdout",
     "output_type": "stream",
     "text": [
      "1\n",
      "2\n",
      "3\n",
      "4\n",
      "5\n",
      "6\n",
      "7\n",
      "8\n",
      "9\n",
      "10\n"
     ]
    }
   ],
   "source": [
    "#Ans12.prints the numbers 1 to 10 using a while loop\n",
    "\n",
    "i = 1\n",
    "while(i<=10):\n",
    "    print(i)\n",
    "    i += 1"
   ]
  },
  {
   "cell_type": "code",
   "execution_count": null,
   "id": "61da9493",
   "metadata": {},
   "outputs": [],
   "source": [
    "#Ans 13 no idea of the ans"
   ]
  }
 ],
 "metadata": {
  "kernelspec": {
   "display_name": "Python 3 (ipykernel)",
   "language": "python",
   "name": "python3"
  },
  "language_info": {
   "codemirror_mode": {
    "name": "ipython",
    "version": 3
   },
   "file_extension": ".py",
   "mimetype": "text/x-python",
   "name": "python",
   "nbconvert_exporter": "python",
   "pygments_lexer": "ipython3",
   "version": "3.9.13"
  }
 },
 "nbformat": 4,
 "nbformat_minor": 5
}
