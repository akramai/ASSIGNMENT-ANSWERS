{
 "cells": [
  {
   "cell_type": "code",
   "execution_count": 1,
   "id": "f6b926cd",
   "metadata": {},
   "outputs": [],
   "source": [
    "#ANS1\n",
    "The shutil.copy() in this function will copy a single file\n",
    "shutil.copytree() will copy an entire folder along with all its contents."
   ]
  },
  {
   "cell_type": "code",
   "execution_count": 2,
   "id": "5184d65b",
   "metadata": {},
   "outputs": [],
   "source": [
    "#ANS2\n",
    "'os.rename()' function is used to rename files"
   ]
  },
  {
   "cell_type": "code",
   "execution_count": 3,
   "id": "cc997316",
   "metadata": {},
   "outputs": [],
   "source": [
    "#ANS3\n",
    "\n",
    "The send2trash functions will move a file or folder to the recycle bin\n",
    "and shutil functions will permanently delete files and folders."
   ]
  },
  {
   "cell_type": "code",
   "execution_count": 4,
   "id": "b4edd0a6",
   "metadata": {},
   "outputs": [],
   "source": [
    "#ANS4\n",
    "\n",
    "The zipfile.ZipFile() function is equivalent to the open() function; the first argument is the filename\n",
    "and the second argument is the mode to open the ZIP file in (read, write, or append)."
   ]
  },
  {
   "cell_type": "code",
   "execution_count": 5,
   "id": "2adc26f7",
   "metadata": {},
   "outputs": [],
   "source": [
    "#ANS5\n",
    "def copyFile(src,dst,ext):\n",
    "    try:\n",
    "        import os,shutil\n",
    "        for file in os.listdir(src):\n",
    "            if file.endswith(ext):\n",
    "                shutil.copy(os.path.join(src,file),dst)\n",
    "        print(f'Files have been successfully copied from {src} to {dst}')\n",
    "    except Exception as e:\n",
    "        print(e)\n",
    "\n",
    "copyFile(r'G:\\stats 2.pdf', r'G:\\stats 2.pdf', '.pdf')"
   ]
  },
  {
   "cell_type": "code",
   "execution_count": null,
   "id": "afb57ea4",
   "metadata": {},
   "outputs": [],
   "source": []
  },
  {
   "cell_type": "code",
   "execution_count": null,
   "id": "6acc0e7f",
   "metadata": {},
   "outputs": [],
   "source": []
  },
  {
   "cell_type": "code",
   "execution_count": null,
   "id": "6928665a",
   "metadata": {},
   "outputs": [],
   "source": []
  }
 ],
 "metadata": {
  "kernelspec": {
   "display_name": "Python 3 (ipykernel)",
   "language": "python",
   "name": "python3"
  },
  "language_info": {
   "codemirror_mode": {
    "name": "ipython",
    "version": 3
   },
   "file_extension": ".py",
   "mimetype": "text/x-python",
   "name": "python",
   "nbconvert_exporter": "python",
   "pygments_lexer": "ipython3",
   "version": "3.9.13"
  }
 },
 "nbformat": 4,
 "nbformat_minor": 5
}
