{
 "cells": [
  {
   "cell_type": "code",
   "execution_count": 1,
   "id": "9927e1cf",
   "metadata": {},
   "outputs": [],
   "source": [
    "#ANS1\n",
    "PdfFileReader() should be opened in read-binary mode.\n",
    "PdfFileWriter() should be opened in write-binary mode."
   ]
  },
  {
   "cell_type": "code",
   "execution_count": 2,
   "id": "9a033af2",
   "metadata": {},
   "outputs": [],
   "source": [
    "#ANS2\n",
    "PdfFileReader class provides a method called getPage(page_no)to get a page object."
   ]
  },
  {
   "cell_type": "code",
   "execution_count": 3,
   "id": "3ec10fd1",
   "metadata": {},
   "outputs": [],
   "source": [
    "#ANS3\n",
    "\n",
    "getNumPages() method of PdfFileReader class stores the no pages in a PDF document"
   ]
  },
  {
   "cell_type": "code",
   "execution_count": 4,
   "id": "922fdc62",
   "metadata": {},
   "outputs": [],
   "source": [
    "#ANS4\n",
    "If a PdfFileReader object’s PDF is encrypted with the password swordfish and youre not aware of it. first read the Pdf using the PdfFileReader Class. PdfFileReader class provides a attribute called isEncrypted to check whether a pdf is encrypted or not. the method returns true if a pdf is encrypted and vice versa\n",
    "if pdf is encrypted use the decrypt() method provided by PdfFileReader class first then try to read the contents/pages of the pdf, else PyPDF2 will raise the following error PyPDF2.utils.PdfReadError: file has not been decrypted"
   ]
  },
  {
   "cell_type": "code",
   "execution_count": 5,
   "id": "dbcb4778",
   "metadata": {},
   "outputs": [],
   "source": [
    "#ANS5\n",
    "PyPDF2 Package provides 2 methods to rotate a page:\n",
    "1. rotateClockWise()- For Clockwise rotation\n",
    "2. rotateCounterClockWise()-For Counter Clockwise rotation  "
   ]
  },
  {
   "cell_type": "code",
   "execution_count": 6,
   "id": "b1682eb0",
   "metadata": {},
   "outputs": [],
   "source": [
    "#ANS6\n",
    "\n",
    "paragraps object is needed to get paragraph from a document, \n",
    "runs object is needed whenever text style changes in a paragraph."
   ]
  },
  {
   "cell_type": "code",
   "execution_count": 14,
   "id": "4e4bed25",
   "metadata": {},
   "outputs": [],
   "source": [
    "#ANS7\n",
    "from docx import Document\n",
    "doc = Document(\"sample_file.docx\") # Path of the Docx file\n",
    "print(doc.paragraphs) # Prints the list of Paragraph objects for a Document\n",
    "for paragraph in doc.paragraphs:\n",
    "    print(paragraph.text) # Prints the text in the paragraph"
   ]
  },
  {
   "cell_type": "code",
   "execution_count": 8,
   "id": "4f39cb2c",
   "metadata": {},
   "outputs": [],
   "source": [
    "#ANS8\n",
    "Run object has bold, underline, italic, strike, and outline variables. The text in a Word document is more than just a string. \n",
    "It has font, size, color, and other styling information associated with it."
   ]
  },
  {
   "cell_type": "code",
   "execution_count": 9,
   "id": "a6ff3d4b",
   "metadata": {},
   "outputs": [],
   "source": [
    "#ANS9\n",
    "True = bold is always enabled no matter what other styles are applied to the run, \n",
    "False = bold is always disabled,\n",
    "None = defaults to whatever the run's style set to"
   ]
  },
  {
   "cell_type": "code",
   "execution_count": 10,
   "id": "1a99f927",
   "metadata": {},
   "outputs": [],
   "source": [
    "#ANS10\n",
    "from docx import Document\n",
    "document = Document()\n",
    "document.add_paragraph(\"iNeuron Full Stack DataScience Course\")\n",
    "document.save('mydocument.docx')"
   ]
  },
  {
   "cell_type": "code",
   "execution_count": 11,
   "id": "10146471",
   "metadata": {},
   "outputs": [],
   "source": [
    "#ANS11\n",
    "from docx import Document\n",
    "doc = Document()\n",
    "doc.add_paragraph('Hello, there!')\n",
    "doc.save('hello.docx')"
   ]
  },
  {
   "cell_type": "code",
   "execution_count": 12,
   "id": "eb6e5176",
   "metadata": {},
   "outputs": [],
   "source": [
    "#ANS12\n",
    "\n",
    "0 to 4"
   ]
  },
  {
   "cell_type": "code",
   "execution_count": null,
   "id": "78c6012b",
   "metadata": {},
   "outputs": [],
   "source": [
    "#ANS"
   ]
  }
 ],
 "metadata": {
  "kernelspec": {
   "display_name": "Python 3 (ipykernel)",
   "language": "python",
   "name": "python3"
  },
  "language_info": {
   "codemirror_mode": {
    "name": "ipython",
    "version": 3
   },
   "file_extension": ".py",
   "mimetype": "text/x-python",
   "name": "python",
   "nbconvert_exporter": "python",
   "pygments_lexer": "ipython3",
   "version": "3.9.13"
  }
 },
 "nbformat": 4,
 "nbformat_minor": 5
}
