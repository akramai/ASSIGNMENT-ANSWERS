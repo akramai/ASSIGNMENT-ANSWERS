{
 "cells": [
  {
   "cell_type": "code",
   "execution_count": 1,
   "id": "d9826824",
   "metadata": {},
   "outputs": [],
   "source": [
    "#ANS1\n",
    "The Advantages of Excel over CSV are:\n",
    "Excel (XLS and XLSX) file formats are better for storing and analysing complex data.\n",
    "An Excel not only stores data but can also do operations on the data using macros, formulas etc\n",
    "CSV files are plain-text files, Does not contain formatting, formulas, macros, etc. It is also known as flat files"
   ]
  },
  {
   "cell_type": "code",
   "execution_count": null,
   "id": "41cb1f37",
   "metadata": {},
   "outputs": [],
   "source": [
    "#ANS2\n",
    "import csv\n",
    "with open('text.csv','r') as file:\n",
    "    csv_file = csv.reader(file,delimiter=',')\n",
    "    for ele in csv_file:\n",
    "        print(ele)"
   ]
  },
  {
   "cell_type": "code",
   "execution_count": 3,
   "id": "eb98338c",
   "metadata": {},
   "outputs": [],
   "source": [
    "#ANS3\n",
    "\n",
    "For csv.reader(iterable_file_object), the file objects needed to be opened in read mode mode='r' \n",
    "Whereas for csv.writer(iterable_file_object) the file objects needed to be opened in write mode mode='w'"
   ]
  },
  {
   "cell_type": "code",
   "execution_count": 4,
   "id": "5bfd6ecf",
   "metadata": {},
   "outputs": [],
   "source": [
    "#ANS4\n",
    "They are writerow() and writerows().\n",
    "writerow() method writes a single row at a time. Whereas writerows() method is used to write multiple rows at a time"
   ]
  },
  {
   "cell_type": "code",
   "execution_count": 5,
   "id": "9011a800",
   "metadata": {},
   "outputs": [],
   "source": [
    "#ANS5\n",
    "delimiter sets the character between cells on a row. \n",
    "line terminator sets the character that comes at the end of a row."
   ]
  },
  {
   "cell_type": "code",
   "execution_count": 10,
   "id": "bb02f836",
   "metadata": {},
   "outputs": [],
   "source": [
    "#ANS6\n",
    "json.loads() method takes a string of JSON data and returns a Python data structure"
   ]
  },
  {
   "cell_type": "code",
   "execution_count": 9,
   "id": "2d3080cd",
   "metadata": {},
   "outputs": [],
   "source": [
    "#ANS7\n",
    "json.dumps() method takes a python data structure and returns a string of JSON data"
   ]
  },
  {
   "cell_type": "code",
   "execution_count": null,
   "id": "6a988dfd",
   "metadata": {},
   "outputs": [],
   "source": []
  }
 ],
 "metadata": {
  "kernelspec": {
   "display_name": "Python 3 (ipykernel)",
   "language": "python",
   "name": "python3"
  },
  "language_info": {
   "codemirror_mode": {
    "name": "ipython",
    "version": 3
   },
   "file_extension": ".py",
   "mimetype": "text/x-python",
   "name": "python",
   "nbconvert_exporter": "python",
   "pygments_lexer": "ipython3",
   "version": "3.9.13"
  }
 },
 "nbformat": 4,
 "nbformat_minor": 5
}
