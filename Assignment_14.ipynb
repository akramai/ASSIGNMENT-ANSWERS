{
 "cells": [
  {
   "cell_type": "code",
   "execution_count": 1,
   "id": "02fecf74",
   "metadata": {},
   "outputs": [],
   "source": [
    "#ANS1\n",
    "\n",
    "RGBA: Red-Green-Blue-Alpha"
   ]
  },
  {
   "cell_type": "code",
   "execution_count": 2,
   "id": "f9bcb5c6",
   "metadata": {},
   "outputs": [],
   "source": [
    "#ANS2\n",
    "ImageColor.getcolor() gives rgba value of any image "
   ]
  },
  {
   "cell_type": "code",
   "execution_count": 3,
   "id": "3f64bf2b",
   "metadata": {},
   "outputs": [],
   "source": [
    "#ANS3\n",
    "Many Pillows function take box tuple argument.\n",
    "This means pillow is taking a tuple of four integer coordinates that expecting a rectangular region in image. \n",
    "The four integers are in order left, top, right, bottom."
   ]
  },
  {
   "cell_type": "code",
   "execution_count": 4,
   "id": "82848eec",
   "metadata": {},
   "outputs": [],
   "source": [
    "#ANS4\n",
    "from PIL import Image\n",
    "im=Image.open(\"image.jpg\")\n",
    "width, height = im.size\n",
    "print(\"width=\", width)\n",
    "print(\"height=\", height)"
   ]
  },
  {
   "cell_type": "code",
   "execution_count": 5,
   "id": "d1241045",
   "metadata": {},
   "outputs": [],
   "source": [
    "#ANS5\n",
    "from PIL import Image\n",
    "Image.new('RGBA', (100,100))"
   ]
  },
  {
   "cell_type": "code",
   "execution_count": 6,
   "id": "aebb595f",
   "metadata": {},
   "outputs": [],
   "source": [
    "#ANS6\n",
    "from PIL import Image\n",
    "pic = Image.open('pic.jpg')\n",
    "pic.save('pic2.jpg')"
   ]
  },
  {
   "cell_type": "code",
   "execution_count": 7,
   "id": "762fafc4",
   "metadata": {},
   "outputs": [],
   "source": [
    "#ANS7\n",
    "\n",
    "Pillows ImageDraw module contains Shape drawing methods"
   ]
  },
  {
   "cell_type": "code",
   "execution_count": 8,
   "id": "4db7d65c",
   "metadata": {},
   "outputs": [],
   "source": [
    "#ANS8\n",
    "ImageDraw objects have shape-drawing methods such as point(), line(), or rectangle().\n",
    "They are returned by passing the Image object to the `ImageDraw.Draw()` function."
   ]
  },
  {
   "cell_type": "code",
   "execution_count": null,
   "id": "8a6c235d",
   "metadata": {},
   "outputs": [],
   "source": []
  }
 ],
 "metadata": {
  "kernelspec": {
   "display_name": "Python 3 (ipykernel)",
   "language": "python",
   "name": "python3"
  },
  "language_info": {
   "codemirror_mode": {
    "name": "ipython",
    "version": 3
   },
   "file_extension": ".py",
   "mimetype": "text/x-python",
   "name": "python",
   "nbconvert_exporter": "python",
   "pygments_lexer": "ipython3",
   "version": "3.9.13"
  }
 },
 "nbformat": 4,
 "nbformat_minor": 5
}
