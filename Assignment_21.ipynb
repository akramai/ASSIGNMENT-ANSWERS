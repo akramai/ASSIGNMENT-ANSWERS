{
 "cells": [
  {
   "cell_type": "code",
   "execution_count": 2,
   "id": "78f26e15",
   "metadata": {},
   "outputs": [
    {
     "name": "stdout",
     "output_type": "stream",
     "text": [
      "2023-01-15\n"
     ]
    }
   ],
   "source": [
    "#ANS 1. Add the current date to the text file today.txt as a string.\n",
    "\n",
    "from datetime import date\n",
    "\n",
    "with open('today.txt', 'w') as txt:\n",
    "    txt.write(date.today().isoformat())\n",
    "print(date.today().isoformat())"
   ]
  },
  {
   "cell_type": "code",
   "execution_count": 3,
   "id": "cc930ee9",
   "metadata": {},
   "outputs": [
    {
     "name": "stdout",
     "output_type": "stream",
     "text": [
      "Reading text: 2023-01-15\n"
     ]
    }
   ],
   "source": [
    "#ANS 2. Read the text file today.txt into the string today_string\n",
    "\n",
    "today_string = \"\"\n",
    "with open('today.txt', 'r') as txt:\n",
    "    today_string = txt.readline()\n",
    "print(f\"Reading text: {today_string}\")"
   ]
  },
  {
   "cell_type": "code",
   "execution_count": 4,
   "id": "2285020c",
   "metadata": {},
   "outputs": [
    {
     "name": "stdout",
     "output_type": "stream",
     "text": [
      "2023-01-15 00:00:00\n"
     ]
    }
   ],
   "source": [
    "#ANS3. Parse the date from today_string.\n",
    "\n",
    "\n",
    "from datetime import datetime\n",
    "print(datetime.strptime(today_string, '%Y-%m-%d'))"
   ]
  },
  {
   "cell_type": "code",
   "execution_count": 5,
   "id": "8eef5bb0",
   "metadata": {},
   "outputs": [
    {
     "data": {
      "text/plain": [
       "['.accessibility.properties',\n",
       " '.anaconda',\n",
       " '.cache',\n",
       " '.conda',\n",
       " '.condarc',\n",
       " '.config',\n",
       " '.continuum',\n",
       " '.cufflinks',\n",
       " '.git',\n",
       " '.gitconfig',\n",
       " '.idea',\n",
       " '.ipynb_checkpoints',\n",
       " '.ipython',\n",
       " '.jovianrc',\n",
       " '.jupyter',\n",
       " '.matplotlib',\n",
       " '.ms-ad',\n",
       " '.spyder-py3',\n",
       " '.vscode',\n",
       " '001 PANDAS PRACTICE.ipynb',\n",
       " '3D Objects',\n",
       " '4 GUI class1.ipynb',\n",
       " '7 REVIEW SCRAPPER PROJECT.ipynb',\n",
       " '7.1 IMAGE SCRAPPER PROJECT.ipynb',\n",
       " 'akramtech.db',\n",
       " 'akrantech.db',\n",
       " 'anaconda3',\n",
       " 'API.ipynb',\n",
       " 'AppData',\n",
       " 'Application Data',\n",
       " 'ASSIGNMENT _1.ipynb',\n",
       " 'ASSIGNMENT-2.ipynb',\n",
       " 'Assignment_10.ipynb',\n",
       " 'Assignment_11.ipynb',\n",
       " 'Assignment_12.ipynb',\n",
       " 'Assignment_13.ipynb',\n",
       " 'Assignment_14.ipynb',\n",
       " 'Assignment_15.ipynb',\n",
       " 'Assignment_16.ipynb',\n",
       " 'Assignment_17.ipynb',\n",
       " 'Assignment_18.ipynb',\n",
       " 'Assignment_19.ipynb',\n",
       " 'Assignment_20.ipynb',\n",
       " 'Assignment_21.ipynb',\n",
       " 'Assignment_22.ipynb',\n",
       " 'Assignment_3.ipynb',\n",
       " 'Assignment_4.ipynb',\n",
       " 'Assignment_5.ipynb',\n",
       " 'Assignment_6.ipynb',\n",
       " 'Assignment_7.ipynb',\n",
       " 'Assignment_8.ipynb',\n",
       " 'Assignment_9.ipynb',\n",
       " 'battery-report.html',\n",
       " 'books.csv',\n",
       " 'books.db',\n",
       " 'Contacts',\n",
       " 'Cookies',\n",
       " 'cricket.csv',\n",
       " 'Customers Analytics Internship.ipynb',\n",
       " 'Desktop',\n",
       " 'Documents',\n",
       " 'Downloads',\n",
       " 'EDA FEATURE  ENGINEERING.ipynb',\n",
       " 'EDA LECTURE 1.ipynb',\n",
       " 'EDA- Part 1.ipynb',\n",
       " 'EDA.ipynb',\n",
       " 'EXCEPTION HANDLING CLASSES.ipynb',\n",
       " 'Favorites',\n",
       " 'FlightPrediction.ipynb',\n",
       " 'FOR LOOP.ipynb',\n",
       " 'FUNCTION.ipynb',\n",
       " 'google.txt',\n",
       " 'GRAPH.ipynb',\n",
       " 'Hypothesis_Testing.ipynb',\n",
       " 'IntelGraphicsProfiles',\n",
       " 'Jedi',\n",
       " 'jobdb.db',\n",
       " 'jobdb.db-journal',\n",
       " 'json_res.csv',\n",
       " 'Links',\n",
       " 'Local Settings',\n",
       " 'Microsoft',\n",
       " 'MicrosoftEdgeBackups',\n",
       " 'mongodb 1.ipynb',\n",
       " 'mongoDB KRISH sir.ipynb',\n",
       " 'MONGODB.ipynb',\n",
       " 'Music',\n",
       " 'My Documents',\n",
       " 'MYSQL 1.ipynb',\n",
       " 'MYSQL 2.ipynb',\n",
       " 'MYSQL PRACTICE1.ipynb',\n",
       " 'NBA.csv',\n",
       " 'NetHood',\n",
       " 'NTUSER.DAT',\n",
       " 'ntuser.dat.LOG1',\n",
       " 'ntuser.dat.LOG2',\n",
       " 'NTUSER.DAT{53b39e88-18c4-11ea-a811-000d3aa4692b}.TM.blf',\n",
       " 'NTUSER.DAT{53b39e88-18c4-11ea-a811-000d3aa4692b}.TMContainer00000000000000000001.regtrans-ms',\n",
       " 'NTUSER.DAT{53b39e88-18c4-11ea-a811-000d3aa4692b}.TMContainer00000000000000000002.regtrans-ms',\n",
       " 'ntuser.ini',\n",
       " 'NUMPY.ipynb',\n",
       " 'OneDrive',\n",
       " 'OOPS 2.ipynb',\n",
       " 'oops pract.ipynb',\n",
       " 'oops practice.ipynb',\n",
       " 'OOPS.ipynb',\n",
       " 'PANDA DATA ANALYSIS PART 1.ipynb',\n",
       " 'PANDA DATA ANALYSIS PART 2.ipynb',\n",
       " 'PANDA s PRACTICE.ipynb',\n",
       " 'PANDAS AND NUMPY.ipynb',\n",
       " 'PANDAS DAY 2.ipynb',\n",
       " 'PANDAS.ipynb',\n",
       " 'person.db',\n",
       " 'Pictures',\n",
       " 'Postman',\n",
       " 'practice for num.ipynb',\n",
       " 'PRACTICE SELF.ipynb',\n",
       " 'PrintHood',\n",
       " 'Programming Assignment_1.ipynb',\n",
       " 'Programming_Assingment2.ipynb',\n",
       " 'Programming_Assingment3.ipynb',\n",
       " 'Programming_Assingment4.ipynb',\n",
       " 'Programming_Assingment5.ipynb',\n",
       " 'Programming_Assingment6.ipynb',\n",
       " 'Programming_Assingment7.ipynb',\n",
       " 'PycharmProjects',\n",
       " 'PYTHON 2.ipynb',\n",
       " 'Recent',\n",
       " 'sample_test.csv',\n",
       " 'Saved Games',\n",
       " 'ScStore',\n",
       " 'seaborn-data',\n",
       " 'Searches',\n",
       " 'SendTo',\n",
       " 'source',\n",
       " 'SQLITE.ipynb',\n",
       " 'Start Menu',\n",
       " 'STATS DAY 2.ipynb',\n",
       " 'Templates',\n",
       " 'test.log',\n",
       " 'test.txt',\n",
       " 'test1.txt',\n",
       " 'test2.txt',\n",
       " 'test3',\n",
       " 'today.txt',\n",
       " 'TUPLE , SETS, DICT.ipynb',\n",
       " 'TUPLES.ipynb',\n",
       " 'Untitled Folder',\n",
       " 'Untitled.ipynb',\n",
       " 'untitled.txt',\n",
       " 'Untitled1.ipynb',\n",
       " 'Untitled2.ipynb',\n",
       " 'Untitled3.ipynb',\n",
       " 'Untitled4.ipynb',\n",
       " 'Videos',\n",
       " 'zoo.py',\n",
       " 'zoo.py.ipynb',\n",
       " '__pycache__']"
      ]
     },
     "execution_count": 5,
     "metadata": {},
     "output_type": "execute_result"
    }
   ],
   "source": [
    "#ANS 4. List the files in your current directory\n",
    "\n",
    "import os\n",
    "os.listdir('.')"
   ]
  },
  {
   "cell_type": "code",
   "execution_count": 6,
   "id": "270b86c0",
   "metadata": {},
   "outputs": [
    {
     "name": "stdout",
     "output_type": "stream",
     "text": [
      "<class 'list'>\n",
      "['All Users', 'Default', 'Default User', 'desktop.ini', 'Public', 'Win10']\n",
      "Number of files: 6\n"
     ]
    }
   ],
   "source": [
    "#ANS 5. Create a list of all of the files in your parent directory (minimum five files should be available).\n",
    "\n",
    "\n",
    "lst_files = os.listdir('..')\n",
    "print(type(lst_files))\n",
    "print(lst_files)\n",
    "print(f\"Number of files: {len(lst_files)}\")"
   ]
  },
  {
   "cell_type": "code",
   "execution_count": null,
   "id": "5e7059ff",
   "metadata": {},
   "outputs": [],
   "source": [
    "### 6. Use multiprocessing to create three separate processes. Make each one wait a random number of seconds between one and five, print the current time, and then exit.\n"
   ]
  },
  {
   "cell_type": "code",
   "execution_count": null,
   "id": "e59499bf",
   "metadata": {},
   "outputs": [],
   "source": [
    "import multiprocessing\n",
    "from datetime import datetime \n",
    "from time import sleep \n",
    "import random\n",
    "\n",
    "def now_sleep(seconds): \n",
    "    print('wait', seconds, 'seconds, time is', datetime.utcnow())\n",
    "    sleep(seconds) \n",
    "    print(\"Finished Process!\")\n",
    "\n",
    "if __name__ == '__main__':\n",
    "    for n in range(3): \n",
    "        print(\"starting processes\")\n",
    "        seconds = random.randint(1, 10) \n",
    "        print(f\"Process {n} will sleep for {seconds}\")\n",
    "        proc = multiprocessing.Process(target=now_sleep, args=(seconds,)) \n",
    "        proc.start()\n",
    "        \n",
    "# Note: this file is saved as multiprocessing.py in local file system"
   ]
  },
  {
   "cell_type": "code",
   "execution_count": 7,
   "id": "3703d1e8",
   "metadata": {},
   "outputs": [
    {
     "name": "stdout",
     "output_type": "stream",
     "text": [
      "1998-06-22\n"
     ]
    }
   ],
   "source": [
    "#ANS 7. Create a date object of your day of birth.\n",
    "\n",
    "\n",
    "my_birthday = date(1998, 6, 22)\n",
    "print(my_birthday)"
   ]
  },
  {
   "cell_type": "code",
   "execution_count": 8,
   "id": "d9da3978",
   "metadata": {},
   "outputs": [
    {
     "name": "stdout",
     "output_type": "stream",
     "text": [
      "My birthday was on 1th day of the week\n"
     ]
    }
   ],
   "source": [
    "#ANS 8. What day of the week was your day of birth?\n",
    "\n",
    "\n",
    "print(f\"My birthday was on {my_birthday.isoweekday()}th day of the week\")"
   ]
  },
  {
   "cell_type": "code",
   "execution_count": 9,
   "id": "5ccddeae",
   "metadata": {},
   "outputs": [
    {
     "name": "stdout",
     "output_type": "stream",
     "text": [
      "2025-11-07\n"
     ]
    }
   ],
   "source": [
    "#ANS 9. When will you be (or when were you) 10,000 days old?\n",
    "\n",
    "\n",
    "from datetime import timedelta\n",
    "\n",
    "thousand_days = my_birthday + timedelta(days=10000)\n",
    "print(thousand_days)"
   ]
  },
  {
   "cell_type": "code",
   "execution_count": null,
   "id": "9dfd97f4",
   "metadata": {},
   "outputs": [],
   "source": []
  },
  {
   "cell_type": "code",
   "execution_count": null,
   "id": "3060a845",
   "metadata": {},
   "outputs": [],
   "source": []
  }
 ],
 "metadata": {
  "kernelspec": {
   "display_name": "Python 3 (ipykernel)",
   "language": "python",
   "name": "python3"
  },
  "language_info": {
   "codemirror_mode": {
    "name": "ipython",
    "version": 3
   },
   "file_extension": ".py",
   "mimetype": "text/x-python",
   "name": "python",
   "nbconvert_exporter": "python",
   "pygments_lexer": "ipython3",
   "version": "3.9.13"
  }
 },
 "nbformat": 4,
 "nbformat_minor": 5
}
