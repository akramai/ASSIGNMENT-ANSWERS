{
 "cells": [
  {
   "cell_type": "code",
   "execution_count": null,
   "id": "9339b30a",
   "metadata": {},
   "outputs": [],
   "source": [
    "### 1. What is the result of the code, and explain?"
   ]
  },
  {
   "cell_type": "code",
   "execution_count": 6,
   "id": "09fe7abe",
   "metadata": {},
   "outputs": [],
   "source": [
    "#ANS 1. What is the result of the code, and explain?\n",
    "\n",
    "X = 'iNeuron'\n",
    "def func():\n",
    "    print(X)\n",
    "    func()\n",
    "    \n",
    "ANS- The above program will print iNeuron to the console as there is no local variable X in the function and the global variable X will be called"
   ]
  },
  {
   "cell_type": "code",
   "execution_count": null,
   "id": "38f0a63d",
   "metadata": {},
   "outputs": [],
   "source": [
    "#ANS 2. What is the result of the code, and explain?\n",
    "\n",
    ">>> X = 'iNeuron'\n",
    ">>> def func():\n",
    "X = 'NI!'\n",
    "\n",
    "\n",
    ">>> func()\n",
    ">>> print(X)\n",
    "\n",
    "The above program will print iNeuron to the console\n",
    "\n",
    "As the statement X='NI!' will be updating the local value X, but the global variable X will be unchanged"
   ]
  },
  {
   "cell_type": "code",
   "execution_count": null,
   "id": "69a673b2",
   "metadata": {},
   "outputs": [],
   "source": [
    "### 3. What does this code print, and why?"
   ]
  },
  {
   "cell_type": "code",
   "execution_count": null,
   "id": "f39075fb",
   "metadata": {},
   "outputs": [],
   "source": [
    "#ANS 3. What does this code print, and why?\n",
    "\n",
    ">>> X = 'iNeuron'\n",
    ">>> def func():\n",
    "X = 'NI'\n",
    "print(X)\n",
    "\n",
    "\n",
    ">>> func()\n",
    ">>> print(X)\n",
    "\n",
    "The above program will print NI followed by iNeuron to the console as the statement X='NI' will be updating the local value X and then printing it to the console, but the global variable X will be unchanged, therefore the next print statement will print the global variable X value which is iNeuron"
   ]
  },
  {
   "cell_type": "code",
   "execution_count": null,
   "id": "354500df",
   "metadata": {},
   "outputs": [],
   "source": [
    "#ANS 4. What output does this code produce? Why?\n",
    "\n",
    ">>> X = 'iNeuron'\n",
    ">>> def func():\n",
    "global X\n",
    "X = 'NI'\n",
    "\n",
    "\n",
    ">>> func()\n",
    ">>> print(X)\n",
    "The above program will print NI to the console. The statement global X will ensure the func function uses the global variable instead of a local variable with name X. Hence the assignment statement updates the global varaible X value to NI"
   ]
  },
  {
   "cell_type": "code",
   "execution_count": null,
   "id": "abb1dc80",
   "metadata": {},
   "outputs": [],
   "source": [
    "#ANS 5. What about this code—what’s the output, and why?\n",
    "\n",
    ">>> X = 'iNeuron'\n",
    ">>> def func():\n",
    "X = 'NI'\n",
    "def nested():\n",
    "print(X)\n",
    "nested()\n",
    "\n",
    "\n",
    ">>> func()\n",
    ">>> X\n",
    "\n",
    "The above code will print NI followed by iNeuron, this is because the global varaible X is unchanged and the method nested has access to the X declared in its enclosing function func"
   ]
  },
  {
   "cell_type": "code",
   "execution_count": null,
   "id": "8f63714c",
   "metadata": {},
   "outputs": [],
   "source": [
    "#ANS 6. How about this code: what is its output in Python 3, and explain?\n",
    "\n",
    ">>> def func():\n",
    "X = 'NI'\n",
    "def nested():\n",
    "nonlocal X\n",
    "X = 'Spam'\n",
    "nested()\n",
    "print(X)\n",
    "\n",
    "\n",
    ">>> func()\n",
    "\n",
    "The above code will print Spam to the console, as they keyword nonlocal helps the function nested() to access the variable X from the function func"
   ]
  },
  {
   "cell_type": "code",
   "execution_count": null,
   "id": "3b84df8e",
   "metadata": {},
   "outputs": [],
   "source": []
  }
 ],
 "metadata": {
  "kernelspec": {
   "display_name": "Python 3 (ipykernel)",
   "language": "python",
   "name": "python3"
  },
  "language_info": {
   "codemirror_mode": {
    "name": "ipython",
    "version": 3
   },
   "file_extension": ".py",
   "mimetype": "text/x-python",
   "name": "python",
   "nbconvert_exporter": "python",
   "pygments_lexer": "ipython3",
   "version": "3.9.13"
  }
 },
 "nbformat": 4,
 "nbformat_minor": 5
}
