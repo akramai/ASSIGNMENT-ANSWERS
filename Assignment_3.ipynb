{
 "cells": [
  {
   "cell_type": "code",
   "execution_count": 2,
   "id": "106a8d41",
   "metadata": {},
   "outputs": [],
   "source": [
    "#ANS1\n",
    "\n",
    "function helps not to write code again and again for same program"
   ]
  },
  {
   "cell_type": "code",
   "execution_count": null,
   "id": "6115a9c1",
   "metadata": {},
   "outputs": [],
   "source": [
    "#ANS2\n",
    "function runs when it is called"
   ]
  },
  {
   "cell_type": "code",
   "execution_count": null,
   "id": "d2f04bc7",
   "metadata": {},
   "outputs": [],
   "source": [
    "#ANS3\n",
    "\n",
    "def"
   ]
  },
  {
   "cell_type": "code",
   "execution_count": null,
   "id": "40d83e3c",
   "metadata": {},
   "outputs": [],
   "source": [
    "#ANS4\n",
    "\n",
    "function has def statement\n",
    "funciton call:- is used to call a function which is created ,by using the name given"
   ]
  },
  {
   "cell_type": "code",
   "execution_count": 3,
   "id": "5b4a2f76",
   "metadata": {},
   "outputs": [],
   "source": [
    "#ANS5 \n",
    "\n",
    "There is one global scope, whenever a function is called it is a local scope"
   ]
  },
  {
   "cell_type": "code",
   "execution_count": 4,
   "id": "15d38561",
   "metadata": {},
   "outputs": [],
   "source": [
    "#ANS6 \n",
    "\n",
    "when the function call returns ,local scope ends and variable is forgoten"
   ]
  },
  {
   "cell_type": "code",
   "execution_count": 5,
   "id": "7dffd5af",
   "metadata": {},
   "outputs": [],
   "source": [
    "#ANS7 \n",
    "The concept of return value is used to exit from a function and go back to the function where it is called \n",
    "and return value can be used as part of an expression."
   ]
  },
  {
   "cell_type": "code",
   "execution_count": 6,
   "id": "d0ec03b7",
   "metadata": {},
   "outputs": [],
   "source": [
    "#ANS8 \n",
    "If a function does not have a return statement, NONE vale comes when function is called"
   ]
  },
  {
   "cell_type": "code",
   "execution_count": 7,
   "id": "6fcfe89b",
   "metadata": {},
   "outputs": [],
   "source": [
    "#ANS9 \n",
    "by global keyword"
   ]
  },
  {
   "cell_type": "code",
   "execution_count": 8,
   "id": "d208aaae",
   "metadata": {},
   "outputs": [],
   "source": [
    "#ANS10\n",
    "\n",
    "NONE type"
   ]
  },
  {
   "cell_type": "code",
   "execution_count": 9,
   "id": "dfd62ce2",
   "metadata": {},
   "outputs": [],
   "source": [
    "#ANS11\n",
    "\n",
    "import statement imports a module named areallyourpetsnamederic."
   ]
  },
  {
   "cell_type": "code",
   "execution_count": 10,
   "id": "0f10f92e",
   "metadata": {},
   "outputs": [],
   "source": [
    "#ANS12\n",
    "\n",
    "After importing function can be called with spam.bacon()"
   ]
  },
  {
   "cell_type": "code",
   "execution_count": 11,
   "id": "d9426c9a",
   "metadata": {},
   "outputs": [],
   "source": [
    "#ANS13\n",
    "\n",
    "use the try and except statements to save a programme from crashing if it encounters an error"
   ]
  },
  {
   "cell_type": "code",
   "execution_count": 12,
   "id": "838e76a6",
   "metadata": {},
   "outputs": [],
   "source": [
    "#ANS14\n",
    "\n",
    "the purpose of try clause is used to prevent code when it causes error\n",
    "exception clause Executed if error in the try block\n"
   ]
  },
  {
   "cell_type": "code",
   "execution_count": null,
   "id": "e0c53099",
   "metadata": {},
   "outputs": [],
   "source": []
  },
  {
   "cell_type": "code",
   "execution_count": null,
   "id": "b361c44f",
   "metadata": {},
   "outputs": [],
   "source": []
  },
  {
   "cell_type": "code",
   "execution_count": null,
   "id": "ba2ff698",
   "metadata": {},
   "outputs": [],
   "source": []
  }
 ],
 "metadata": {
  "kernelspec": {
   "display_name": "Python 3 (ipykernel)",
   "language": "python",
   "name": "python3"
  },
  "language_info": {
   "codemirror_mode": {
    "name": "ipython",
    "version": 3
   },
   "file_extension": ".py",
   "mimetype": "text/x-python",
   "name": "python",
   "nbconvert_exporter": "python",
   "pygments_lexer": "ipython3",
   "version": "3.9.13"
  }
 },
 "nbformat": 4,
 "nbformat_minor": 5
}
