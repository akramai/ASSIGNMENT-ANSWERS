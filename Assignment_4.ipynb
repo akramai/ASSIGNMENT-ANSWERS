{
 "cells": [
  {
   "cell_type": "code",
   "execution_count": 3,
   "id": "93dadf5d",
   "metadata": {},
   "outputs": [],
   "source": [
    "#ANS1\n",
    "\n",
    "it is bracket [], this indicates empty list having no value"
   ]
  },
  {
   "cell_type": "code",
   "execution_count": 4,
   "id": "6dffc6c3",
   "metadata": {},
   "outputs": [
    {
     "name": "stdout",
     "output_type": "stream",
     "text": [
      "[2, 4, 6, 'hello', 8, 10]\n"
     ]
    }
   ],
   "source": [
    "#ANS2\n",
    "#using insert we will assign the value in the 3rd place \n",
    "\n",
    "spam = [2,4,6,8,10]\n",
    "\n",
    "spam.insert(3,'hello')\n",
    "print(spam)"
   ]
  },
  {
   "cell_type": "code",
   "execution_count": null,
   "id": "86016a71",
   "metadata": {},
   "outputs": [],
   "source": [
    "# Let's pretend the spam includes the list ['a', 'b', 'c', 'd'] for the next three queries."
   ]
  },
  {
   "cell_type": "code",
   "execution_count": 29,
   "id": "31d6e1a4",
   "metadata": {},
   "outputs": [
    {
     "data": {
      "text/plain": [
       "[3]"
      ]
     },
     "execution_count": 29,
     "metadata": {},
     "output_type": "execute_result"
    }
   ],
   "source": [
    "#ANS3 \n",
    "\n",
    "spam = ['a', 'b', 'c', 'd']\n",
    "[int(int('3' * 2) / 11)]\n",
    "\n",
    "#'3'*2 = '33' is strint and passed as int and again divided by 11 which is giving 3 an int"
   ]
  },
  {
   "cell_type": "code",
   "execution_count": 30,
   "id": "e26a2b8a",
   "metadata": {},
   "outputs": [
    {
     "data": {
      "text/plain": [
       "'d'"
      ]
     },
     "execution_count": 30,
     "metadata": {},
     "output_type": "execute_result"
    }
   ],
   "source": [
    "#ANS4 \n",
    "spam[-1] "
   ]
  },
  {
   "cell_type": "code",
   "execution_count": 31,
   "id": "a494a7d3",
   "metadata": {},
   "outputs": [
    {
     "data": {
      "text/plain": [
       "['a', 'b']"
      ]
     },
     "execution_count": 31,
     "metadata": {},
     "output_type": "execute_result"
    }
   ],
   "source": [
    "#ANS5\n",
    "\n",
    "spam[:2]"
   ]
  },
  {
   "cell_type": "code",
   "execution_count": null,
   "id": "b2d967d2",
   "metadata": {},
   "outputs": [],
   "source": [
    "# Let's pretend bacon has the list [3.14, 'cat', 11 , 'cat', True] for the next three questions."
   ]
  },
  {
   "cell_type": "code",
   "execution_count": 63,
   "id": "89460946",
   "metadata": {},
   "outputs": [],
   "source": [
    "bacon = [3.14, 'cat', 11 , 'cat', True]"
   ]
  },
  {
   "cell_type": "code",
   "execution_count": 64,
   "id": "062a139b",
   "metadata": {},
   "outputs": [
    {
     "data": {
      "text/plain": [
       "1"
      ]
     },
     "execution_count": 64,
     "metadata": {},
     "output_type": "execute_result"
    }
   ],
   "source": [
    "#ANS6\n",
    "bacon.index('cat')"
   ]
  },
  {
   "cell_type": "code",
   "execution_count": 65,
   "id": "bd3d5682",
   "metadata": {},
   "outputs": [
    {
     "name": "stdout",
     "output_type": "stream",
     "text": [
      "[3.14, 'cat', 11, 'cat', True, 99]\n"
     ]
    }
   ],
   "source": [
    "#ANS7\n",
    "bacon.append(99)  #append(99) adds the element in the list\n",
    "print(bacon)"
   ]
  },
  {
   "cell_type": "code",
   "execution_count": 67,
   "id": "dd8f2ec7",
   "metadata": {},
   "outputs": [
    {
     "name": "stdout",
     "output_type": "stream",
     "text": [
      "[3.14, 11, True, 99]\n"
     ]
    }
   ],
   "source": [
    "#ANS8\n",
    "\n",
    "bacon.remove('cat')  #remove element from given list \n",
    "print(bacon)"
   ]
  },
  {
   "cell_type": "code",
   "execution_count": null,
   "id": "3591711b",
   "metadata": {},
   "outputs": [],
   "source": [
    "#ANS9\n",
    "\n",
    "list concatenation is + operator add the whole of one list behind the other list\n",
    "and list replication operators * operator "
   ]
  },
  {
   "cell_type": "code",
   "execution_count": null,
   "id": "306f2c70",
   "metadata": {},
   "outputs": [],
   "source": [
    "#ANS10\n",
    "\n",
    "append() adds value at the end\n",
    "insert() is used to add value where ever we want"
   ]
  },
  {
   "cell_type": "code",
   "execution_count": null,
   "id": "0cf1e22d",
   "metadata": {},
   "outputs": [],
   "source": [
    "#ANS11 \n",
    "\n",
    "remove() and pop()"
   ]
  },
  {
   "cell_type": "code",
   "execution_count": null,
   "id": "7a9c2646",
   "metadata": {},
   "outputs": [],
   "source": [
    "#ANS12\n",
    "list values are mutable and string values are immutable"
   ]
  },
  {
   "cell_type": "code",
   "execution_count": null,
   "id": "6710214e",
   "metadata": {},
   "outputs": [],
   "source": [
    "#ANS13\n",
    "tuples are written with  round bracket ( ),\n",
    "list are written with square bracket [ ]"
   ]
  },
  {
   "cell_type": "code",
   "execution_count": 69,
   "id": "d0140c9e",
   "metadata": {},
   "outputs": [
    {
     "data": {
      "text/plain": [
       "'42'"
      ]
     },
     "execution_count": 69,
     "metadata": {},
     "output_type": "execute_result"
    }
   ],
   "source": [
    "#ANS14\n",
    "\n",
    "str(42)"
   ]
  },
  {
   "cell_type": "code",
   "execution_count": null,
   "id": "fb0251ac",
   "metadata": {},
   "outputs": [],
   "source": [
    "#ANS15\n",
    "can create a tuple by placing all elements inside the parentheses(()) separated by commas \n",
    "convert it to list using list(sequence)."
   ]
  },
  {
   "cell_type": "code",
   "execution_count": null,
   "id": "1801b89c",
   "metadata": {},
   "outputs": [],
   "source": [
    "#ANS16\n",
    "\n",
    "They contain references to list values"
   ]
  },
  {
   "cell_type": "code",
   "execution_count": 7,
   "id": "0bc6b16e",
   "metadata": {},
   "outputs": [],
   "source": [
    "#ANS17\n",
    "\n",
    "The copy() returns a copy of the specified list\n",
    "A deep copy constructs a new compound object and then, recursively, inserts copies into it of the objects found in the original."
   ]
  },
  {
   "cell_type": "code",
   "execution_count": 18,
   "id": "5468d916",
   "metadata": {},
   "outputs": [],
   "source": [
    "#ANS"
   ]
  },
  {
   "cell_type": "code",
   "execution_count": 27,
   "id": "f3f96115",
   "metadata": {},
   "outputs": [],
   "source": []
  },
  {
   "cell_type": "code",
   "execution_count": null,
   "id": "3023b900",
   "metadata": {},
   "outputs": [],
   "source": []
  },
  {
   "cell_type": "code",
   "execution_count": null,
   "id": "fb8dd257",
   "metadata": {},
   "outputs": [],
   "source": []
  }
 ],
 "metadata": {
  "kernelspec": {
   "display_name": "Python 3 (ipykernel)",
   "language": "python",
   "name": "python3"
  },
  "language_info": {
   "codemirror_mode": {
    "name": "ipython",
    "version": 3
   },
   "file_extension": ".py",
   "mimetype": "text/x-python",
   "name": "python",
   "nbconvert_exporter": "python",
   "pygments_lexer": "ipython3",
   "version": "3.9.13"
  }
 },
 "nbformat": 4,
 "nbformat_minor": 5
}
