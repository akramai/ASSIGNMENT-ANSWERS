{
 "cells": [
  {
   "cell_type": "code",
   "execution_count": 1,
   "id": "4a65a433",
   "metadata": {},
   "outputs": [],
   "source": [
    "#ANS 1\n",
    "\n",
    "Two empyt curly brackets: {}"
   ]
  },
  {
   "cell_type": "code",
   "execution_count": 5,
   "id": "0347dba8",
   "metadata": {},
   "outputs": [],
   "source": [
    "#ANS 2\n",
    "\n",
    "{'foo': 42}"
   ]
  },
  {
   "cell_type": "code",
   "execution_count": 6,
   "id": "a1c5893e",
   "metadata": {},
   "outputs": [],
   "source": [
    "#ANS 3\n",
    "\n",
    "The items which we stored in a dictionary can be unordered, while the items in a list are to be ordered"
   ]
  },
  {
   "cell_type": "code",
   "execution_count": 7,
   "id": "c0703706",
   "metadata": {},
   "outputs": [],
   "source": [
    "#ANS 4\n",
    "KeyError error"
   ]
  },
  {
   "cell_type": "code",
   "execution_count": 8,
   "id": "811977a2",
   "metadata": {},
   "outputs": [],
   "source": [
    "#ANS 5\n",
    "no difference"
   ]
  },
  {
   "cell_type": "code",
   "execution_count": 9,
   "id": "07e9c1b6",
   "metadata": {},
   "outputs": [],
   "source": [
    "#ANS 6\n",
    "\n",
    "'cat' in spam checks that 'cat' key in the dictionary \n",
    "while 'cat' in spam.values() checks there is a value 'cat' for one of the keys in spam"
   ]
  },
  {
   "cell_type": "code",
   "execution_count": 10,
   "id": "e7a82d43",
   "metadata": {},
   "outputs": [],
   "source": [
    "#ANS 7\n",
    "spam.setdefault('color', 'black')"
   ]
  },
  {
   "cell_type": "code",
   "execution_count": 11,
   "id": "2d8a82a6",
   "metadata": {},
   "outputs": [],
   "source": [
    "#ANS 8\n",
    "\n",
    "pprint.pprint()"
   ]
  },
  {
   "cell_type": "code",
   "execution_count": null,
   "id": "c957bfc1",
   "metadata": {},
   "outputs": [],
   "source": []
  }
 ],
 "metadata": {
  "kernelspec": {
   "display_name": "Python 3 (ipykernel)",
   "language": "python",
   "name": "python3"
  },
  "language_info": {
   "codemirror_mode": {
    "name": "ipython",
    "version": 3
   },
   "file_extension": ".py",
   "mimetype": "text/x-python",
   "name": "python",
   "nbconvert_exporter": "python",
   "pygments_lexer": "ipython3",
   "version": "3.9.13"
  }
 },
 "nbformat": 4,
 "nbformat_minor": 5
}
