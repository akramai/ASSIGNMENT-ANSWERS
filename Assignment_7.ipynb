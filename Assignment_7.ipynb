{
 "cells": [
  {
   "cell_type": "code",
   "execution_count": 2,
   "id": "b3599681",
   "metadata": {},
   "outputs": [
    {
     "name": "stdout",
     "output_type": "stream",
     "text": [
      "re.compile('generate_Regex_objects')\n"
     ]
    }
   ],
   "source": [
    "#ANS1  re.compile() is the feature responsible for  generating Regex objects.\n",
    "import re\n",
    "x = re.compile(\"generate_Regex_objects\")\n",
    "type(x)\n",
    "print(x)"
   ]
  },
  {
   "cell_type": "code",
   "execution_count": null,
   "id": "ab557848",
   "metadata": {},
   "outputs": [],
   "source": [
    "#ANS2\n",
    "\n",
    "Regular expressions use the backslash character `('\\')` to indicate special forms `(Metacharacters)` or to allow special characters `(speical sequences)` to be used  without invoking their special meaning. \n",
    "This collides with Python’s usage of the same character for the same purpose in string literals. Hence, Raw strings are used (e.g. r\"\\n\") so that backslashes do not have to be escaped."
   ]
  },
  {
   "cell_type": "code",
   "execution_count": null,
   "id": "6f0e02d4",
   "metadata": {},
   "outputs": [],
   "source": [
    "#ANS3\n",
    "The return value of `re.search(pattern,string)` method is a match object if the pattern is observed in the string else it returns a None"
   ]
  },
  {
   "cell_type": "code",
   "execution_count": null,
   "id": "4b449df5",
   "metadata": {},
   "outputs": [],
   "source": [
    "#ANS4\n",
    "The group() method returns strings of the matches pattern"
   ]
  },
  {
   "cell_type": "code",
   "execution_count": null,
   "id": "edbf64b9",
   "metadata": {},
   "outputs": [],
   "source": [
    "#ANS5\n",
    "In the Regex **`r'(\\d\\d\\d)-(\\d\\d\\d-\\d\\d\\d\\d)'`** the zero group covers the entire pattern match \n",
    "where as the first group cover **`(\\d\\d\\d)`** and the second group cover **`(\\d\\d\\d-\\d\\d\\d\\d)`"
   ]
  },
  {
   "cell_type": "code",
   "execution_count": null,
   "id": "7d6c49fe",
   "metadata": {},
   "outputs": [],
   "source": [
    "#ANS6\n",
    "parentheses and periods can be escaped with a backslash: \\., \\(, and \\)."
   ]
  },
  {
   "cell_type": "code",
   "execution_count": null,
   "id": "9bae04b6",
   "metadata": {},
   "outputs": [],
   "source": [
    "#ANS7\n",
    "If the regex has no groups, a list of strings is returned. \n",
    "If the regex has groups, a list of tuples of strings is returned."
   ]
  },
  {
   "cell_type": "code",
   "execution_count": null,
   "id": "9ff8e250",
   "metadata": {},
   "outputs": [],
   "source": [
    "#ANS8\n",
    "The | character signifies matching \"either, or\" between two groups.\n"
   ]
  },
  {
   "cell_type": "code",
   "execution_count": null,
   "id": "50e6086d",
   "metadata": {},
   "outputs": [],
   "source": [
    "#ANS9\n",
    "\n",
    "A RegEx, or Regular Expression, is a sequence of characters that forms a search pattern\n",
    "RegEx can be used to check if a string contains the specified search pattern"
   ]
  },
  {
   "cell_type": "code",
   "execution_count": null,
   "id": "d31ffee8",
   "metadata": {},
   "outputs": [],
   "source": [
    "#ANS10\n",
    "The + matches one or more. \n",
    "The * matches zero or more."
   ]
  },
  {
   "cell_type": "code",
   "execution_count": null,
   "id": "6842490c",
   "metadata": {},
   "outputs": [],
   "source": [
    "#ANS11\n",
    "{4} means preceding character is to be repeated 4 times.\n",
    "{4,5} means preceding character is repeated minimum 4 times and maximum 5 times."
   ]
  },
  {
   "cell_type": "code",
   "execution_count": null,
   "id": "d9f93e90",
   "metadata": {},
   "outputs": [],
   "source": [
    "#ANS12\n",
    "\n",
    "\\d Returns a match where the string contains digits (numbers from 0-9)\n",
    "\n",
    "\\w Returns a match where the string contains any word characters \n",
    "(characters from a to Z, digits from 0-9, and the underscore _ character)\n",
    "\n",
    "\\s Returns a match where the string contains a white space character"
   ]
  },
  {
   "cell_type": "code",
   "execution_count": null,
   "id": "ac7ed1ca",
   "metadata": {},
   "outputs": [],
   "source": [
    "#ANS13\n",
    "\\D Returns a match where the string DOES NOT contain digits\n",
    "\\W Returns a match where the string DOES NOT contain any word characters\n",
    "\\S Returns a match where the string DOES NOT contain a white space character"
   ]
  },
  {
   "cell_type": "code",
   "execution_count": null,
   "id": "cef99753",
   "metadata": {},
   "outputs": [],
   "source": [
    "#ANS14\n",
    "\n",
    "The .* performs a greedy match, \n",
    "the .*? performs a nongreedy match."
   ]
  },
  {
   "cell_type": "code",
   "execution_count": null,
   "id": "aa911667",
   "metadata": {},
   "outputs": [],
   "source": [
    "#ANS15\n",
    "The Synatax is Either [a-z0-9] or [0-9a-z]\n"
   ]
  },
  {
   "cell_type": "code",
   "execution_count": null,
   "id": "f1fd9fec",
   "metadata": {},
   "outputs": [],
   "source": [
    "#ANS16\n",
    " We can pass re.IGNORECASE as a flag to make a noraml expression case insensitive\n"
   ]
  },
  {
   "cell_type": "code",
   "execution_count": null,
   "id": "c5f9a672",
   "metadata": {},
   "outputs": [],
   "source": [
    "#ANS17\n",
    "\n",
    "The . character normally matches any character except the newline character. \n",
    "If re.DOTALL is passed as the second argument to re.compile(), then the dot will also match newline characters."
   ]
  },
  {
   "cell_type": "code",
   "execution_count": null,
   "id": "a11524e1",
   "metadata": {},
   "outputs": [],
   "source": [
    "#ANS18\n",
    " \n",
    "'X drummers, X pipers, five rings, X hens'"
   ]
  },
  {
   "cell_type": "code",
   "execution_count": null,
   "id": "f9e7894d",
   "metadata": {},
   "outputs": [],
   "source": [
    "#ANS19\n",
    "\n",
    "The re.VERBOSE argument allows you to add whitespace and comments to the string passed to re.compile()"
   ]
  },
  {
   "cell_type": "code",
   "execution_count": null,
   "id": "04e7eaef",
   "metadata": {},
   "outputs": [],
   "source": [
    "#ANS20\n",
    "\n",
    "`'42','1,234', '6,368,745'`but not the following: `'12,34,567'` (which has only two digits between the commas) `'1234'` (which lacks commas)"
   ]
  },
  {
   "cell_type": "code",
   "execution_count": 3,
   "id": "b691cb19",
   "metadata": {},
   "outputs": [
    {
     "name": "stdout",
     "output_type": "stream",
     "text": [
      "Output:  Haruto Watanabe -> <re.Match object; span=(0, 15), match='Haruto Watanabe'>\n",
      "Output:  Alice Watanabe -> <re.Match object; span=(0, 14), match='Alice Watanabe'>\n",
      "Output:  RoboCop Watanabe -> <re.Match object; span=(4, 16), match='Cop Watanabe'>\n",
      "Output:  haruto Watanabe -> None\n",
      "Output:  Mr. Watanabe -> None\n",
      "Output:  Watanabe -> None\n",
      "Output:  Haruto watanabe -> None\n"
     ]
    }
   ],
   "source": [
    "#ANS21\n",
    "\n",
    "re.compile(r'[A-Z]{1}[a-z]*\\sWatanabe')\n",
    "\n",
    "import re\n",
    "pattern = r'[A-Z]{1}[a-z]*\\sWatanabe'\n",
    "namex = re.compile(pattern)\n",
    "for name in ['Haruto Watanabe','Alice Watanabe','RoboCop Watanabe','haruto Watanabe','Mr. Watanabe','Watanabe','Haruto watanabe']:\n",
    "    print('Output: ',name,'->',namex.search(name))"
   ]
  },
  {
   "cell_type": "code",
   "execution_count": 4,
   "id": "3b9128c7",
   "metadata": {},
   "outputs": [
    {
     "name": "stdout",
     "output_type": "stream",
     "text": [
      "Output:  Alice eats apples. -> <re.Match object; span=(0, 18), match='Alice eats apples.'>\n",
      "Output:  Bob pets cats. -> <re.Match object; span=(0, 14), match='Bob pets cats.'>\n",
      "Output:  Carol throws baseballs. -> <re.Match object; span=(0, 23), match='Carol throws baseballs.'>\n",
      "Output:  Alice throws Apples. -> <re.Match object; span=(0, 20), match='Alice throws Apples.'>\n",
      "Output:  BOB EATS CATS. -> <re.Match object; span=(0, 14), match='BOB EATS CATS.'>\n",
      "Output:  RoboCop eats apples. -> None\n",
      "Output:  ALICE THROWS FOOTBALLS. -> None\n",
      "Output:  Carol eats 7 cats. -> None\n"
     ]
    }
   ],
   "source": [
    "#ANS22\n",
    "re.compile(r'(Alice|Bob|Carol)\\s(eats|pets|throws)\\ s(apples|cats|baseballs)\\.', re.IGNORECASE)\n",
    "\n",
    "import re\n",
    "pattern = r'(Alice|Bob|Carol)\\s(eats|pets|throws)\\s(apples|cats|baseballs)\\.'\n",
    "casex = re.compile(pattern,re.IGNORECASE)\n",
    "for ele in ['Alice eats apples.','Bob pets cats.','Carol throws baseballs.','Alice throws Apples.','BOB EATS CATS.','RoboCop eats apples.'\n",
    ",'ALICE THROWS FOOTBALLS.','Carol eats 7 cats.']:\n",
    "    print('Output: ',ele,'->',casex.search(ele))\n"
   ]
  },
  {
   "cell_type": "code",
   "execution_count": null,
   "id": "765b290d",
   "metadata": {},
   "outputs": [],
   "source": [
    "#ANS"
   ]
  },
  {
   "cell_type": "code",
   "execution_count": null,
   "id": "60fa51da",
   "metadata": {},
   "outputs": [],
   "source": []
  },
  {
   "cell_type": "code",
   "execution_count": null,
   "id": "4adae5fd",
   "metadata": {},
   "outputs": [],
   "source": []
  }
 ],
 "metadata": {
  "kernelspec": {
   "display_name": "Python 3 (ipykernel)",
   "language": "python",
   "name": "python3"
  },
  "language_info": {
   "codemirror_mode": {
    "name": "ipython",
    "version": 3
   },
   "file_extension": ".py",
   "mimetype": "text/x-python",
   "name": "python",
   "nbconvert_exporter": "python",
   "pygments_lexer": "ipython3",
   "version": "3.9.13"
  }
 },
 "nbformat": 4,
 "nbformat_minor": 5
}
