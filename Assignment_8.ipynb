{
 "cells": [
  {
   "cell_type": "code",
   "execution_count": null,
   "id": "ffb12f0f",
   "metadata": {},
   "outputs": [],
   "source": [
    "#ANS1\n",
    "\n",
    "PyInputPlus is not a part of the Python Standard Library, we must install it separately using !pip install PyInputPlus."
   ]
  },
  {
   "cell_type": "code",
   "execution_count": 1,
   "id": "47efec98",
   "metadata": {},
   "outputs": [],
   "source": [
    "#ANS2\n",
    "we can import the module with import pyinputplus as pyip so that you can enter a shorter name when calling the module’s functions"
   ]
  },
  {
   "cell_type": "code",
   "execution_count": 2,
   "id": "14888e0d",
   "metadata": {},
   "outputs": [],
   "source": [
    "#ANS3\n",
    "inputint() function Accepts an integer value. \n",
    "inputFloat() function Accepts a floating-point numeric value.\n",
    "\n",
    "Both takes additional parameters 'min', 'max', 'greaterThan' and 'lessThan' for bounds"
   ]
  },
  {
   "cell_type": "code",
   "execution_count": 3,
   "id": "ebbb470a",
   "metadata": {},
   "outputs": [],
   "source": [
    "#ANS4\n",
    "using pyip.inputint(min=0, max=99)"
   ]
  },
  {
   "cell_type": "code",
   "execution_count": 4,
   "id": "5fbfc7f0",
   "metadata": {},
   "outputs": [],
   "source": [
    "#ANS5\n",
    "\n",
    "we can use allowRegexes and blockRegexes keyword arguments to take list of regular expression strings \n",
    "to determine what the pyinputplus function will reject or accept valid input."
   ]
  },
  {
   "cell_type": "code",
   "execution_count": 5,
   "id": "9a881f8b",
   "metadata": {},
   "outputs": [],
   "source": [
    "#ANS6\n",
    "The statement inputStr(limit=3) will throw two exceptions 'ValidationException' and 'RetryLimitException'. \n",
    "The first exception is thrown because blank values are not allowed by inputStr() function by default. it we want to consider blank values as valid input, we have to set 'blank=True'.\n",
    "\n",
    "The second exception is occured because we have reached the max limit we have specified by using 'limit' parameter. inorder to avoid this exception we can use 'default' parameter to return a default value when max limit is reached."
   ]
  },
  {
   "cell_type": "code",
   "execution_count": 6,
   "id": "470555ba",
   "metadata": {},
   "outputs": [],
   "source": [
    "#ANS7\n",
    "The function returns the value 'hello'"
   ]
  },
  {
   "cell_type": "code",
   "execution_count": null,
   "id": "ccaceae1",
   "metadata": {},
   "outputs": [],
   "source": []
  }
 ],
 "metadata": {
  "kernelspec": {
   "display_name": "Python 3 (ipykernel)",
   "language": "python",
   "name": "python3"
  },
  "language_info": {
   "codemirror_mode": {
    "name": "ipython",
    "version": 3
   },
   "file_extension": ".py",
   "mimetype": "text/x-python",
   "name": "python",
   "nbconvert_exporter": "python",
   "pygments_lexer": "ipython3",
   "version": "3.9.13"
  }
 },
 "nbformat": 4,
 "nbformat_minor": 5
}
