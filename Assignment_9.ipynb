{
 "cells": [
  {
   "cell_type": "code",
   "execution_count": 1,
   "id": "5df61dfb",
   "metadata": {},
   "outputs": [],
   "source": [
    "#ANS1\n",
    "\n",
    "Relative paths are relative to the current working directory.When using relative path, we need to provide the absolute/complete path of file from the root directory, \n",
    "instead we can give the partial/relative path to indicate the file location."
   ]
  },
  {
   "cell_type": "code",
   "execution_count": 2,
   "id": "f8e65419",
   "metadata": {},
   "outputs": [],
   "source": [
    "#ANS2\n",
    "Absolute paths start with the root folder, such as / or C:\\"
   ]
  },
  {
   "cell_type": "code",
   "execution_count": 3,
   "id": "f1a7447b",
   "metadata": {},
   "outputs": [],
   "source": [
    "#ANS3\n",
    "The os.getcwd() function returns the current working directory. \n",
    "The os.chdir() function changes the current working directory"
   ]
  },
  {
   "cell_type": "code",
   "execution_count": 4,
   "id": "d706100f",
   "metadata": {},
   "outputs": [],
   "source": [
    "#ANS4\n",
    ". folder is the current folder\n",
    ".. is the parent folder"
   ]
  },
  {
   "cell_type": "code",
   "execution_count": 5,
   "id": "62e5da09",
   "metadata": {},
   "outputs": [],
   "source": [
    "#ANS5\n",
    "C:\\bacon\\eggs is the dir name, while \n",
    "spam.txt is the base name"
   ]
  },
  {
   "cell_type": "code",
   "execution_count": 6,
   "id": "13a4d479",
   "metadata": {},
   "outputs": [],
   "source": [
    "#ANS6\n",
    "The string 'r' for read mode, \n",
    "'w' for write mode, and \n",
    "'a' for append mode"
   ]
  },
  {
   "cell_type": "code",
   "execution_count": 7,
   "id": "9bd3e131",
   "metadata": {},
   "outputs": [],
   "source": [
    "#ANS7\n",
    "\n",
    "If an existing file is opened in write mode, then all the existing content from the file is erased and the new content will be added.\n",
    "This might result in loss of data if you wanted to have both existing and new data to existing in the file"
   ]
  },
  {
   "cell_type": "code",
   "execution_count": 8,
   "id": "45aac2d3",
   "metadata": {},
   "outputs": [],
   "source": [
    "#ANS8\n",
    "\n",
    "The read() method returns the file’s entire contents as a single string value.\n",
    "The readlines() method returns a list of strings, where each string is a line from the file’s contents."
   ]
  },
  {
   "cell_type": "code",
   "execution_count": 9,
   "id": "2794be65",
   "metadata": {},
   "outputs": [],
   "source": [
    "#ANS9\n",
    "\n",
    "A shelf value resembles a dictionary value; it has keys and values\n",
    "along with keys() and values() methods that work similarly to the dictionary methods of the same names"
   ]
  },
  {
   "cell_type": "code",
   "execution_count": 10,
   "id": "0d013eff",
   "metadata": {},
   "outputs": [],
   "source": [
    "#ANS"
   ]
  },
  {
   "cell_type": "code",
   "execution_count": null,
   "id": "be9dfe0a",
   "metadata": {},
   "outputs": [],
   "source": []
  }
 ],
 "metadata": {
  "kernelspec": {
   "display_name": "Python 3 (ipykernel)",
   "language": "python",
   "name": "python3"
  },
  "language_info": {
   "codemirror_mode": {
    "name": "ipython",
    "version": 3
   },
   "file_extension": ".py",
   "mimetype": "text/x-python",
   "name": "python",
   "nbconvert_exporter": "python",
   "pygments_lexer": "ipython3",
   "version": "3.9.13"
  }
 },
 "nbformat": 4,
 "nbformat_minor": 5
}
