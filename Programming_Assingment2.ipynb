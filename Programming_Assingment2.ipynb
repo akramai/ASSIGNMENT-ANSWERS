{
 "cells": [
  {
   "cell_type": "code",
   "execution_count": 102,
   "id": "dce1967d",
   "metadata": {},
   "outputs": [
    {
     "name": "stdout",
     "output_type": "stream",
     "text": [
      "input km we need to convert: 12\n",
      "12.00 km = 7.46 miles\n"
     ]
    }
   ],
   "source": [
    "#ANS 1\n",
    "\n",
    "km = float(input('input km we need to convert: '))\n",
    "miles = km*0.621371\n",
    "\n",
    "print(\"%0.2f km = %0.2f miles\" %(km,miles))"
   ]
  },
  {
   "cell_type": "code",
   "execution_count": 104,
   "id": "ffdc4cfa",
   "metadata": {},
   "outputs": [
    {
     "name": "stdout",
     "output_type": "stream",
     "text": [
      "Entered celsius is: -12\n",
      "-12.00 degree celsius = 10.40 Fahrenheit\n"
     ]
    }
   ],
   "source": [
    "#ANS 2\n",
    "\n",
    "celsius = int(input(\"Entered celsius is: \"))\n",
    "fahrenheit = celsius*1.8+32\n",
    "\n",
    "print(\"%0.2f degree celsius = %0.2f Fahrenheit\"%(celsius,fahrenheit))"
   ]
  },
  {
   "cell_type": "code",
   "execution_count": 107,
   "id": "19095708",
   "metadata": {},
   "outputs": [
    {
     "name": "stdout",
     "output_type": "stream",
     "text": [
      "Enter year: 2022\n",
      "Enter month: 12\n",
      "   December 2022\n",
      "Mo Tu We Th Fr Sa Su\n",
      "          1  2  3  4\n",
      " 5  6  7  8  9 10 11\n",
      "12 13 14 15 16 17 18\n",
      "19 20 21 22 23 24 25\n",
      "26 27 28 29 30 31\n",
      "\n"
     ]
    }
   ],
   "source": [
    "#ANS 3\n",
    "\n",
    "import calendar\n",
    "\n",
    "yy = int(input(\"Enter year: \"))\n",
    "mm = int(input(\"Enter month: \"))\n",
    "print(calendar.month(yy, mm))"
   ]
  },
  {
   "cell_type": "code",
   "execution_count": 124,
   "id": "cfe929cc",
   "metadata": {},
   "outputs": [
    {
     "name": "stdout",
     "output_type": "stream",
     "text": [
      "a = 2\n",
      "b = 2\n",
      "c = 3\n",
      "no root\n"
     ]
    }
   ],
   "source": [
    "#ANS 4\n",
    "\n",
    "a = float(input(\"a = \"))\n",
    "b = float(input(\"b = \"))\n",
    "c = float(input(\"c = \"))\n",
    "\n",
    "d = b*b -4*a*c\n",
    "\n",
    "if d > 0:\n",
    "    x1 = (-b + sqrt(d)) / (2*a)\n",
    "    x2 = (-b - sqrt(d)) / (2*a)\n",
    "    print(\"x1 = %0.2f; x2 = %0.2f\" %(x1,x2))\n",
    "    \n",
    "elif d == 0:\n",
    "    x1 = -b / (2*a)\n",
    "    print(\"x1 = %0.2f\" % x1)\n",
    "else:\n",
    "    print(\"no root\")"
   ]
  },
  {
   "cell_type": "code",
   "execution_count": 110,
   "id": "4fb591c0",
   "metadata": {},
   "outputs": [
    {
     "name": "stdout",
     "output_type": "stream",
     "text": [
      "x = 45\n",
      "y = 12\n"
     ]
    }
   ],
   "source": [
    "#ANS 5\n",
    "x = 12\n",
    "y = 45\n",
    "\n",
    "x, y = y, x\n",
    "print(\"x =\", x)\n",
    "print(\"y =\", y)\n"
   ]
  },
  {
   "cell_type": "code",
   "execution_count": null,
   "id": "7a15b845",
   "metadata": {},
   "outputs": [],
   "source": []
  }
 ],
 "metadata": {
  "kernelspec": {
   "display_name": "Python 3 (ipykernel)",
   "language": "python",
   "name": "python3"
  },
  "language_info": {
   "codemirror_mode": {
    "name": "ipython",
    "version": 3
   },
   "file_extension": ".py",
   "mimetype": "text/x-python",
   "name": "python",
   "nbconvert_exporter": "python",
   "pygments_lexer": "ipython3",
   "version": "3.9.13"
  }
 },
 "nbformat": 4,
 "nbformat_minor": 5
}
