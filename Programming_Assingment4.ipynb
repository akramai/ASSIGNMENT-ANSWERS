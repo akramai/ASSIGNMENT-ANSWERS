{
 "cells": [
  {
   "cell_type": "code",
   "execution_count": 1,
   "id": "3d0cb7f8",
   "metadata": {},
   "outputs": [
    {
     "name": "stdout",
     "output_type": "stream",
     "text": [
      "input number :6\n",
      "6 * 5 * 4 * 3 * 2 * 1\n",
      "The factorial of 6 is 720\n"
     ]
    }
   ],
   "source": [
    "##ANS1\n",
    "\n",
    "def factorial(n):\n",
    "    if n == 1:\n",
    "        print(n)\n",
    "        return 1\n",
    "   \n",
    "    else:\n",
    "        print(n, '*', end = \" \")\n",
    "        return n * factorial(n-1)\n",
    "\n",
    "n = int(input(\"input number :\"))\n",
    "print(\"The factorial of\", n, \"is\", factorial(n))"
   ]
  },
  {
   "cell_type": "code",
   "execution_count": 3,
   "id": "279fe941",
   "metadata": {},
   "outputs": [
    {
     "name": "stdout",
     "output_type": "stream",
     "text": [
      "display multiplication table of: 3\n",
      "3 x 1 = 3\n",
      "3 x 2 = 6\n",
      "3 x 3 = 9\n",
      "3 x 4 = 12\n",
      "3 x 5 = 15\n",
      "3 x 6 = 18\n",
      "3 x 7 = 21\n",
      "3 x 8 = 24\n",
      "3 x 9 = 27\n",
      "3 x 10 = 30\n"
     ]
    }
   ],
   "source": [
    "##ANS2\n",
    "\n",
    "num = int(input(\"display multiplication table of: \"))\n",
    "for i in range(1, 11):\n",
    "   print(num, 'x', i, '=', num*i)"
   ]
  },
  {
   "cell_type": "code",
   "execution_count": 7,
   "id": "af42611c",
   "metadata": {},
   "outputs": [
    {
     "name": "stdout",
     "output_type": "stream",
     "text": [
      "[0, 1, 3, 6, 10, 15, 21, 28, 36, 45, 55]\n"
     ]
    }
   ],
   "source": [
    "#ANS3\n",
    "\n",
    "list = [0,1,2,3,4,5,6,7,8,9,10]\n",
    "new_list = [ ]\n",
    "j = 0\n",
    "for i in range (0,len(list)):\n",
    "    j+= list[i]\n",
    "    new_list.append(j)\n",
    "print(new_list)"
   ]
  },
  {
   "cell_type": "code",
   "execution_count": 15,
   "id": "e1446db3",
   "metadata": {},
   "outputs": [
    {
     "name": "stdout",
     "output_type": "stream",
     "text": [
      "371\n",
      "371 is an Armstrong number\n"
     ]
    }
   ],
   "source": [
    "#ANS4\n",
    "\n",
    "num = int(input())\n",
    "order = len(str(num))\n",
    "sum = 0\n",
    "\n",
    "temp = num\n",
    "while temp > 0:\n",
    "   digit = temp % 10\n",
    "   sum += digit ** order\n",
    "   temp //= 10\n",
    "\n",
    "# display the result\n",
    "if num == sum:\n",
    "   print(num,\"is an Armstrong number\")\n",
    "else:\n",
    "   print(num,\"is not an Armstrong number\")"
   ]
  },
  {
   "cell_type": "code",
   "execution_count": 23,
   "id": "4ab95ccb",
   "metadata": {},
   "outputs": [
    {
     "name": "stdout",
     "output_type": "stream",
     "text": [
      "25\n",
      "36\n"
     ]
    }
   ],
   "source": [
    "#ANS5\n",
    "\n",
    "lower = 10\n",
    "upper = 100\n",
    "\n",
    "for num in range(lower, upper + 1):\n",
    "    order = len(str(num))\n",
    "    sum = 0\n",
    "\n",
    "    temp = num\n",
    "    while temp > 0:\n",
    "        digit = temp % 10\n",
    "        sum += digit ** order\n",
    "        temp //= 10\n",
    "        \n",
    "        if num == sum:\n",
    "            print(num)\n"
   ]
  },
  {
   "cell_type": "code",
   "execution_count": 24,
   "id": "14d9746e",
   "metadata": {},
   "outputs": [
    {
     "name": "stdout",
     "output_type": "stream",
     "text": [
      "10\n",
      "The sum is 55\n"
     ]
    }
   ],
   "source": [
    "#ANS6\n",
    "\n",
    "num = int(input())\n",
    "order = len(str(num))\n",
    "if num < 0:\n",
    "    print(\"Enter a positive number\")\n",
    "else:\n",
    "    sum = 0\n",
    "    while(num > 0):\n",
    "        sum += num\n",
    "        num -= 1\n",
    "    print(\"The sum is\", sum)"
   ]
  },
  {
   "cell_type": "code",
   "execution_count": 12,
   "id": "d3dc30f7",
   "metadata": {},
   "outputs": [],
   "source": [
    "#ANS"
   ]
  },
  {
   "cell_type": "code",
   "execution_count": 13,
   "id": "f725b64c",
   "metadata": {},
   "outputs": [],
   "source": []
  },
  {
   "cell_type": "code",
   "execution_count": null,
   "id": "8b12bda1",
   "metadata": {},
   "outputs": [],
   "source": []
  }
 ],
 "metadata": {
  "kernelspec": {
   "display_name": "Python 3 (ipykernel)",
   "language": "python",
   "name": "python3"
  },
  "language_info": {
   "codemirror_mode": {
    "name": "ipython",
    "version": 3
   },
   "file_extension": ".py",
   "mimetype": "text/x-python",
   "name": "python",
   "nbconvert_exporter": "python",
   "pygments_lexer": "ipython3",
   "version": "3.9.13"
  }
 },
 "nbformat": 4,
 "nbformat_minor": 5
}
